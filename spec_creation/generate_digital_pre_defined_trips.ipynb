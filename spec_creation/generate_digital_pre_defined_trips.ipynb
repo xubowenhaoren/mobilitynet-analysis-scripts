{
 "cells": [
  {
   "cell_type": "code",
   "execution_count": 1,
   "metadata": {},
   "outputs": [],
   "source": [
    "from xml.dom import minidom"
   ]
  },
  {
   "cell_type": "markdown",
   "metadata": {},
   "source": [
    "### General Steps\n",
    "\n",
    "1. Design your pre-defined trip. Example: https://goo.gl/maps/6CeojHgiRG4Wn3Ht9 \n",
    "2. Recreate the trip route. Go to Google Maps -> Menu -> Your places -> Maps -> See all your maps. Or directly click https://www.google.com/maps/d/u/0/?hl=en\n",
    "3. Click \"Create a new map\"\n",
    "4. Refer to the video for drawing routes and downloading the KML file containing the list of lat/long coordinates: https://youtu.be/VMv0yK7XCrY?t=71\n",
    "5. You need to export each motion mode/segment in the trip seperately. Do not generate the whole trip with multiple segements at once."
   ]
  },
  {
   "cell_type": "code",
   "execution_count": 2,
   "metadata": {},
   "outputs": [],
   "source": [
    "file_path = \"/Users/bowenxu2/Downloads/pre_def_1_bus.xml\""
   ]
  },
  {
   "cell_type": "code",
   "execution_count": 3,
   "metadata": {},
   "outputs": [],
   "source": [
    "file_path_2 = \"/Users/bowenxu2/Downloads/pre_def_1_walk.xml\""
   ]
  },
  {
   "cell_type": "code",
   "execution_count": 4,
   "metadata": {},
   "outputs": [],
   "source": [
    "def get_cleaned_lat_long_from_xml(file_path):\n",
    "    xmldoc = minidom.parse(file_path)\n",
    "    itemlist = xmldoc.getElementsByTagName('coordinates') \n",
    "    # print(itemlist[0].firstChild.nodeValue)\n",
    "    raw_coordinates = itemlist[0].firstChild.nodeValue.split(\"\\n\")[1:-1]\n",
    "    new_coordinates = []\n",
    "    for raw_data in raw_coordinates:\n",
    "        cleaned_data = raw_data.strip().split(\",\")\n",
    "        # print(cleaned_data)\n",
    "        new_coordinates.append([float(cleaned_data[0]), float(cleaned_data[1])])\n",
    "    print(new_coordinates)\n",
    "    return new_coordinates"
   ]
  },
  {
   "cell_type": "code",
   "execution_count": 5,
   "metadata": {},
   "outputs": [
    {
     "name": "stdout",
     "output_type": "stream",
     "text": [
      "[[-122.30482, 47.6569], [-122.30482, 47.65683], [-122.30481, 47.65679], [-122.3048, 47.65673], [-122.30475, 47.65662], [-122.3047, 47.65652], [-122.30469, 47.6565], [-122.30461, 47.65635], [-122.30459, 47.65617], [-122.30455, 47.65594], [-122.30454, 47.65586], [-122.30454, 47.65576], [-122.30453, 47.65561], [-122.30454, 47.65541], [-122.30454, 47.6554], [-122.30454, 47.65534], [-122.30461, 47.65502], [-122.30466, 47.65496], [-122.30471, 47.6549], [-122.30477, 47.65485], [-122.30483, 47.65478], [-122.30489, 47.65473], [-122.30493, 47.6547], [-122.30496, 47.65466], [-122.305, 47.6546], [-122.30503, 47.65455], [-122.30505, 47.65452], [-122.30506, 47.65449], [-122.30507, 47.65447], [-122.3051, 47.6544], [-122.30513, 47.65431], [-122.30514, 47.65421], [-122.30514, 47.65416], [-122.30514, 47.65412], [-122.30513, 47.65407], [-122.30513, 47.65403], [-122.30513, 47.65397], [-122.30512, 47.65387], [-122.30513, 47.65379], [-122.30514, 47.6537], [-122.30516, 47.65359], [-122.30518, 47.65349], [-122.3052, 47.65345], [-122.3052, 47.65344], [-122.3052, 47.65341], [-122.30522, 47.65336], [-122.30524, 47.65332], [-122.30526, 47.65328], [-122.30529, 47.65322], [-122.30533, 47.65313], [-122.30538, 47.65307], [-122.30543, 47.65299], [-122.30547, 47.65294], [-122.30553, 47.65287], [-122.30559, 47.6528], [-122.30562, 47.65278], [-122.30569, 47.65271], [-122.3058, 47.65262], [-122.30588, 47.65256], [-122.30598, 47.65249], [-122.30606, 47.65244], [-122.30613, 47.6524]]\n",
      "[[-122.30632, 47.65235], [-122.30626, 47.65229], [-122.30638, 47.65224], [-122.30642, 47.65222], [-122.30633, 47.65209], [-122.30611, 47.65176], [-122.3057, 47.65115], [-122.30558, 47.65098], [-122.30556, 47.65093], [-122.30556, 47.6509], [-122.30556, 47.65086], [-122.30557, 47.65083], [-122.30559, 47.65078], [-122.30564, 47.65071], [-122.30561, 47.65067], [-122.30557, 47.65062], [-122.30548, 47.65061], [-122.30542, 47.65059], [-122.30538, 47.65058], [-122.30534, 47.65056], [-122.30529, 47.65053], [-122.30524, 47.65048], [-122.30519, 47.65042], [-122.30469, 47.65055], [-122.30461, 47.65057], [-122.30452, 47.65058], [-122.30443, 47.65058], [-122.30438, 47.65057], [-122.30428, 47.65054], [-122.30418, 47.65051], [-122.30412, 47.65051], [-122.30409, 47.6505]]\n"
     ]
    },
    {
     "data": {
      "text/plain": [
       "[[-122.30632, 47.65235],\n",
       " [-122.30626, 47.65229],\n",
       " [-122.30638, 47.65224],\n",
       " [-122.30642, 47.65222],\n",
       " [-122.30633, 47.65209],\n",
       " [-122.30611, 47.65176],\n",
       " [-122.3057, 47.65115],\n",
       " [-122.30558, 47.65098],\n",
       " [-122.30556, 47.65093],\n",
       " [-122.30556, 47.6509],\n",
       " [-122.30556, 47.65086],\n",
       " [-122.30557, 47.65083],\n",
       " [-122.30559, 47.65078],\n",
       " [-122.30564, 47.65071],\n",
       " [-122.30561, 47.65067],\n",
       " [-122.30557, 47.65062],\n",
       " [-122.30548, 47.65061],\n",
       " [-122.30542, 47.65059],\n",
       " [-122.30538, 47.65058],\n",
       " [-122.30534, 47.65056],\n",
       " [-122.30529, 47.65053],\n",
       " [-122.30524, 47.65048],\n",
       " [-122.30519, 47.65042],\n",
       " [-122.30469, 47.65055],\n",
       " [-122.30461, 47.65057],\n",
       " [-122.30452, 47.65058],\n",
       " [-122.30443, 47.65058],\n",
       " [-122.30438, 47.65057],\n",
       " [-122.30428, 47.65054],\n",
       " [-122.30418, 47.65051],\n",
       " [-122.30412, 47.65051],\n",
       " [-122.30409, 47.6505]]"
      ]
     },
     "execution_count": 5,
     "metadata": {},
     "output_type": "execute_result"
    }
   ],
   "source": [
    "get_cleaned_lat_long_from_xml(file_path)\n",
    "get_cleaned_lat_long_from_xml(file_path_2)"
   ]
  },
  {
   "cell_type": "code",
   "execution_count": null,
   "metadata": {},
   "outputs": [],
   "source": []
  }
 ],
 "metadata": {
  "kernelspec": {
   "display_name": "Python 3",
   "language": "python",
   "name": "python3"
  },
  "language_info": {
   "codemirror_mode": {
    "name": "ipython",
    "version": 3
   },
   "file_extension": ".py",
   "mimetype": "text/x-python",
   "name": "python",
   "nbconvert_exporter": "python",
   "pygments_lexer": "ipython3",
   "version": "3.7.3"
  }
 },
 "nbformat": 4,
 "nbformat_minor": 4
}

{
 "cells": [
  {
   "cell_type": "code",
   "execution_count": 1,
   "id": "forty-current",
   "metadata": {},
   "outputs": [],
   "source": [
    "import requests\n",
    "import sqlite3\n",
    "from sqlite3 import Error\n",
    "import json"
   ]
  },
  {
   "cell_type": "markdown",
   "id": "funded-validity",
   "metadata": {},
   "source": [
    "This notebook is for reading the sersver trip and matching the relevant user input with the phone UserCache's IMU data for each segment.\n",
    "\n",
    "1. Connects to an instance of the e-mission server\n",
    "2. Accepts a user UUID (e.g. email) and use it to fetch all processed trip data\n",
    "3. For each trip segment, fetch all corresponding IMU data from the SQLite phone UserCache local database\n",
    "4. Also for each trip segment, check and fetch user input ground truth from the UserCache.\n",
    "\n",
    "For more details refer to https://github.com/e-mission/e-mission-docs/issues/627"
   ]
  },
  {
   "cell_type": "code",
   "execution_count": 2,
   "id": "consistent-madrid",
   "metadata": {},
   "outputs": [],
   "source": [
    "# Replace these global variables with your actual setup.\n",
    "SERVER_URL = \"http://45.33.108.175:80\"\n",
    "LOOKUP_DATE = \"2021-03-01\"\n",
    "USERNAME = \"josh01\"\n",
    "\n",
    "post_msg = {\n",
    "    \"user\": USERNAME\n",
    "}\n",
    "\n",
    "# To obtain the local database, use E-mission -> Profile -> Developer zone -> Check sensed data -> Email icon\n",
    "# For more details, check https://github.com/e-mission/e-mission-docs/issues/613\n",
    "PHONE_LOCAL_DATABASE_LOCATION = \"/Users/bowenxu2/Downloads/userCacheDB\""
   ]
  },
  {
   "cell_type": "code",
   "execution_count": 3,
   "id": "secure-stadium",
   "metadata": {},
   "outputs": [],
   "source": [
    "# Helper method to create the phone local database connection.\n",
    "\n",
    "def create_connection(db_file):\n",
    "    \"\"\" create a database connection to the SQLite database\n",
    "        specified by the db_file\n",
    "    :param db_file: database file\n",
    "    :return: Connection object or None\n",
    "    \"\"\"\n",
    "    conn = None\n",
    "    try:\n",
    "        conn = sqlite3.connect(db_file)\n",
    "    except Error as e:\n",
    "        print(e)\n",
    "\n",
    "    return conn\n",
    "\n",
    "def select_last_row(conn, timestamp_key):\n",
    "    \"\"\"\n",
    "    Query all rows in the userCache table\n",
    "    :param conn: the Connection object\n",
    "    :return:\n",
    "    \"\"\"\n",
    "    cur = conn.cursor()\n",
    "    cur.execute(\"SELECT * FROM userCache WHERE key='\" + timestamp_key + \"' LIMIT 5\")\n",
    "\n",
    "    rows = cur.fetchall()\n",
    "\n",
    "    print(\"The number of user input results for the current segment motion mode:\", len(rows))\n",
    "#     for row in rows:    \n",
    "#         print(row)\n",
    "    if len(rows) > 0:\n",
    "        last_row = rows[-1]\n",
    "        print(\"last row:\", last_row)\n",
    "        print(\"latest user input:\", json.loads(last_row[6])[\"label\"])\n",
    "    else:\n",
    "        print(\"no user input for current segment\")"
   ]
  },
  {
   "cell_type": "code",
   "execution_count": 4,
   "id": "eligible-sacrifice",
   "metadata": {},
   "outputs": [],
   "source": [
    "# Load the UserCache (SQLite database) and create the connection\n",
    "conn = create_connection(PHONE_LOCAL_DATABASE_LOCATION)"
   ]
  },
  {
   "cell_type": "code",
   "execution_count": 5,
   "id": "marine-shuttle",
   "metadata": {},
   "outputs": [],
   "source": [
    "# Get the E-mission server response.\n",
    "# The E-mission server uses a MongoDB (NoSQL), so there's no direct way of obtaining the dump containing all user data on all dates.\n",
    "# We need to use the POST API to obtain the daily data once at a time.\n",
    "response = requests.post(SERVER_URL + \"/timeline/getTrips/\" + LOOKUP_DATE, json=post_msg)"
   ]
  },
  {
   "cell_type": "code",
   "execution_count": 6,
   "id": "critical-hampton",
   "metadata": {
    "pycharm": {
     "name": "#%%\n"
    },
    "scrolled": false
   },
   "outputs": [
    {
     "name": "stdout",
     "output_type": "stream",
     "text": [
      "today's number of trips: 6\n"
     ]
    }
   ],
   "source": [
    "today_trip_list = response.json()['timeline']\n",
    "print(\"today's number of trips:\", len(today_trip_list))"
   ]
  },
  {
   "cell_type": "markdown",
   "id": "dress-greece",
   "metadata": {},
   "source": [
    "### Note: The \"user input\" data below is only generated for testing purposes and do not reflect the ground truth."
   ]
  },
  {
   "cell_type": "code",
   "execution_count": 7,
   "id": "democratic-colonial",
   "metadata": {
    "pycharm": {
     "name": "#%%\n"
    },
    "scrolled": false
   },
   "outputs": [
    {
     "name": "stdout",
     "output_type": "stream",
     "text": [
      "Reviewing trip 1 of 6\n",
      "trip start time: 2021-03-01T10:33:10-08:00\n",
      "trip end time: 2021-03-01T10:59:50-08:00\n",
      "Reading segment data...\n",
      "current segment start time: 2021-03-01T10:33:10-08:00 1614623590.0\n",
      "current segment end time: 2021-03-01T10:59:50-08:00 1614625190.0\n",
      "current segment motion mode, detected by E-mission model: CAR\n",
      "The number of user input results for the current segment motion mode: 0\n",
      "no user input for current segment\n",
      "--\n",
      "Number of segments in this trip: 1\n",
      "--------------------\n",
      "Reviewing trip 2 of 6\n",
      "trip start time: 2021-03-01T11:09:44.717288-08:00\n",
      "trip end time: 2021-03-01T11:47:13.945000-08:00\n",
      "Reading segment data...\n",
      "current segment start time: 2021-03-01T11:09:44.717288-08:00 1614625784.717288\n",
      "current segment end time: 2021-03-01T11:47:13.945000-08:00 1614628033.945\n",
      "current segment motion mode, detected by E-mission model: BICYCLING\n",
      "The number of user input results for the current segment motion mode: 2\n",
      "last row: (1615506968.765, None, 'America/Los_Angeles', 'message', '1614625784.717288_1614628033.945', None, '{\"start_ts\":1.614625784717288E9,\"end_ts\":1.614628033945E9,\"segment\":true,\"label\":\"train\"}')\n",
      "latest user input: train\n",
      "--\n",
      "Number of segments in this trip: 1\n",
      "--------------------\n",
      "Reviewing trip 3 of 6\n",
      "trip start time: 2021-03-01T11:54:39.372095-08:00\n",
      "trip end time: 2021-03-01T12:00:33.381000-08:00\n",
      "Reading segment data...\n",
      "current segment start time: 2021-03-01T11:54:39.372095-08:00 1614628479.3720953\n",
      "current segment end time: 2021-03-01T12:00:33.381000-08:00 1614628833.381\n",
      "current segment motion mode, detected by E-mission model: WALKING\n",
      "The number of user input results for the current segment motion mode: 1\n",
      "last row: (1615506983.229, None, 'America/Los_Angeles', 'message', '1614628479.3720953_1614628833.381', None, '{\"start_ts\":1.6146284793720953E9,\"end_ts\":1.614628833381E9,\"segment\":true,\"label\":\"automobile\"}')\n",
      "latest user input: automobile\n",
      "--\n",
      "Number of segments in this trip: 1\n",
      "--------------------\n",
      "Reviewing trip 4 of 6\n",
      "trip start time: 2021-03-01T12:03:33.381000-08:00\n",
      "trip end time: 2021-03-01T12:15:10-08:00\n",
      "Reading segment data...\n",
      "current segment start time: 2021-03-01T12:03:33.381000-08:00 1614629013.381\n",
      "current segment end time: 2021-03-01T12:15:10-08:00 1614629710.0\n",
      "current segment motion mode, detected by E-mission model: BICYCLING\n",
      "The number of user input results for the current segment motion mode: 0\n",
      "no user input for current segment\n",
      "--\n",
      "Number of segments in this trip: 1\n",
      "--------------------\n",
      "Reviewing trip 5 of 6\n",
      "trip start time: 2021-03-01T12:28:45.604755-08:00\n",
      "trip end time: 2021-03-01T13:45:12.559000-08:00\n",
      "Reading segment data...\n",
      "current segment start time: 2021-03-01T12:28:45.604755-08:00 1614630525.604755\n",
      "current segment end time: 2021-03-01T12:30:46.702000-08:00 1614630646.702\n",
      "current segment motion mode, detected by E-mission model: WALKING\n",
      "The number of user input results for the current segment motion mode: 2\n",
      "last row: (1615508411.195, None, 'America/Los_Angeles', 'message', '1614630525.604755_1614630646.702', None, '{\"start_ts\":1.614630525604755E9,\"end_ts\":1.614630646702E9,\"segment\":true,\"label\":\"walk\"}')\n",
      "latest user input: walk\n",
      "--\n",
      "current segment start time: 2021-03-01T12:30:46.702000-08:00 1614630646.702\n",
      "current segment end time: 2021-03-01T13:10:38.449000-08:00 1614633038.449\n",
      "current segment motion mode, detected by E-mission model: SUBWAY\n",
      "The number of user input results for the current segment motion mode: 1\n",
      "last row: (1615508438.664, None, 'America/Los_Angeles', 'message', '1614630646.702_1614633038.449', None, '{\"start_ts\":1.614630646702E9,\"end_ts\":1.614633038449E9,\"segment\":true,\"label\":\"wheelchair\"}')\n",
      "latest user input: wheelchair\n",
      "--\n",
      "current segment start time: 2021-03-01T13:10:38.449000-08:00 1614633038.449\n",
      "current segment end time: 2021-03-01T13:10:38.449000-08:00 1614633038.449\n",
      "current segment motion mode, detected by E-mission model: CAR\n",
      "The number of user input results for the current segment motion mode: 2\n",
      "last row: (1615508449.208, None, 'America/Los_Angeles', 'message', '1614633038.449_1614633038.449', None, '{\"start_ts\":1.614633038449E9,\"end_ts\":1.614633038449E9,\"segment\":true,\"label\":\"bike\"}')\n",
      "latest user input: bike\n",
      "--\n",
      "current segment start time: 2021-03-01T13:12:42.555000-08:00 1614633162.555\n",
      "current segment end time: 2021-03-01T13:14:45-08:00 1614633285.0\n",
      "current segment motion mode, detected by E-mission model: WALKING\n",
      "The number of user input results for the current segment motion mode: 0\n",
      "no user input for current segment\n",
      "--\n",
      "current segment start time: 2021-03-01T13:14:45-08:00 1614633285.0\n",
      "current segment end time: 2021-03-01T13:31:06-08:00 1614634266.0\n",
      "current segment motion mode, detected by E-mission model: BICYCLING\n",
      "The number of user input results for the current segment motion mode: 0\n",
      "no user input for current segment\n",
      "--\n",
      "current segment start time: 2021-03-01T13:31:15.542000-08:00 1614634275.542\n",
      "current segment end time: 2021-03-01T13:45:12.559000-08:00 1614635112.559\n",
      "current segment motion mode, detected by E-mission model: BICYCLING\n",
      "The number of user input results for the current segment motion mode: 3\n",
      "last row: (1615507037.926, None, 'America/Los_Angeles', 'message', '1614634275.542_1614635112.559', None, '{\"start_ts\":1.614634275542E9,\"end_ts\":1.614635112559E9,\"segment\":true,\"label\":\"walk\"}')\n",
      "latest user input: walk\n",
      "--\n",
      "Number of segments in this trip: 6\n",
      "--------------------\n",
      "Reviewing trip 6 of 6\n",
      "trip start time: 2021-03-01T13:47:33.344227-08:00\n",
      "trip end time: 2021-03-01T14:21:31-08:00\n",
      "Reading segment data...\n",
      "current segment start time: 2021-03-01T13:47:33.344227-08:00 1614635253.344227\n",
      "current segment end time: 2021-03-01T14:21:31-08:00 1614637291.0\n",
      "current segment motion mode, detected by E-mission model: CAR\n",
      "The number of user input results for the current segment motion mode: 0\n",
      "no user input for current segment\n",
      "--\n",
      "Number of segments in this trip: 1\n",
      "--------------------\n"
     ]
    }
   ],
   "source": [
    "for idx, trip in enumerate(today_trip_list):\n",
    "    print(\"Reviewing trip\", idx + 1, \"of\", len(today_trip_list))\n",
    "    print(\"trip start time:\", trip['properties']['start_fmt_time'])\n",
    "    print(\"trip end time:\", trip['properties']['end_fmt_time'])\n",
    "    print(\"Reading segment data...\")\n",
    "    segment_list = []\n",
    "    for feature in trip['features']:\n",
    "        if feature['type'] == \"FeatureCollection\":\n",
    "            segment_list.append(feature)\n",
    "            segment_start_timestamp = str(feature['features'][0]['properties']['start_ts'])\n",
    "            segment_end_timestamp = str(feature['features'][0]['properties']['end_ts'])\n",
    "            print(\"current segment start time:\", feature['features'][0]['properties']['start_fmt_time'], segment_start_timestamp)\n",
    "            print(\"current segment end time:\", feature['features'][0]['properties']['end_fmt_time'], segment_end_timestamp)\n",
    "            raw_motion_mode_text = feature['features'][0]['properties']['sensed_mode']\n",
    "            print(\"current segment motion mode, detected by E-mission model:\", raw_motion_mode_text.split(\".\")[1])\n",
    "            # To find the matching user input in the local database, get the key by \"StartTimeStamp_EndTimeStamp\"\n",
    "            select_last_row(conn, segment_start_timestamp + \"_\" + segment_end_timestamp)\n",
    "            print(\"--\")\n",
    "    print(\"Number of segments in this trip:\", len(segment_list))\n",
    "    print(\"-\" * 20)"
   ]
  },
  {
   "cell_type": "code",
   "execution_count": null,
   "id": "egyptian-proposal",
   "metadata": {},
   "outputs": [],
   "source": []
  },
  {
   "cell_type": "code",
   "execution_count": null,
   "id": "colonial-clinton",
   "metadata": {},
   "outputs": [],
   "source": []
  }
 ],
 "metadata": {
  "kernelspec": {
   "display_name": "Python 3",
   "language": "python",
   "name": "python3"
  },
  "language_info": {
   "codemirror_mode": {
    "name": "ipython",
    "version": 3
   },
   "file_extension": ".py",
   "mimetype": "text/x-python",
   "name": "python",
   "nbconvert_exporter": "python",
   "pygments_lexer": "ipython3",
   "version": "3.8.2"
  }
 },
 "nbformat": 4,
 "nbformat_minor": 5
}
